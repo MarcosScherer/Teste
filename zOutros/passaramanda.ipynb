{
 "cells": [
  {
   "cell_type": "code",
   "execution_count": 1,
   "metadata": {},
   "outputs": [],
   "source": [
    "import pandas as pd\n",
    "\n",
    "import agrupa_excel_v2 as ag\n",
    "\n",
    "import pandas as pd\n",
    "import re\n",
    "from unidecode import unidecode\n",
    "import os\n",
    "\n",
    "from openpyxl import load_workbook\n",
    "from openpyxl.styles import NamedStyle, PatternFill, Font, numbers\n",
    "from openpyxl.worksheet.table import Table, TableStyleInfo"
   ]
  },
  {
   "cell_type": "code",
   "execution_count": 2,
   "metadata": {},
   "outputs": [],
   "source": [
    "df = pd.read_excel(r'C:\\Users\\Thomas\\Downloads\\Base_v2\\Emissao\\Dados_Emissao\\Agrupado\\Emissoes_agrupado.xlsx')\n",
    "df_foco = pd.read_excel(r'C:\\Users\\Thomas\\Downloads\\Base_v2\\zOutros\\corretoresfoco.xlsx')"
   ]
  },
  {
   "cell_type": "code",
   "execution_count": 3,
   "metadata": {},
   "outputs": [],
   "source": [
    "df1 = df.drop_duplicates(subset='Corretor')[['Inspetor de producao', 'Corretor']].copy()"
   ]
  },
  {
   "cell_type": "code",
   "execution_count": 4,
   "metadata": {},
   "outputs": [],
   "source": [
    "df['Ramo Seguro'].fillna('Zerado', inplace=True)\n",
    "df['Ramo Seguro'] = df['Ramo Seguro'].replace({'Condominio': 'Demais RE', 'Empresarial': 'Demais RE','Equipamento Agricola':'Demais RE','Equipamento':'Demais RE'})"
   ]
  },
  {
   "cell_type": "code",
   "execution_count": 5,
   "metadata": {},
   "outputs": [],
   "source": [
    "df2 = df.pivot_table(index='Corretor', columns='Ramo Seguro', aggfunc='size', fill_value=0)"
   ]
  },
  {
   "cell_type": "code",
   "execution_count": 6,
   "metadata": {},
   "outputs": [],
   "source": [
    "df3 = pd.merge(df1, df2, on='Corretor', how='inner')\n",
    "df3[\"Total\"] = df3[[\"Auto\", \"Residencial Sob Medida\", \"Demais RE\"]].sum(axis=1)"
   ]
  },
  {
   "cell_type": "code",
   "execution_count": 7,
   "metadata": {},
   "outputs": [],
   "source": [
    "df3 = df3[['Inspetor de producao','Corretor','Auto', 'Residencial Sob Medida', 'Demais RE', 'Total']]"
   ]
  },
  {
   "cell_type": "code",
   "execution_count": 8,
   "metadata": {},
   "outputs": [],
   "source": [
    "df4 = df[df['Corretor'] == 'TOP ALTA PROTECAO CORRETORA DE S'][['Corretor', 'Ramo Seguro', 'Inspetor de producao', 'Cod Sucursal']]"
   ]
  },
  {
   "cell_type": "markdown",
   "metadata": {},
   "source": []
  },
  {
   "cell_type": "code",
   "execution_count": 9,
   "metadata": {},
   "outputs": [],
   "source": [
    "df3.to_excel(r'C:\\Users\\Thomas\\Downloads\\Base_v2\\zOutros\\producao.xlsx')\n",
    "df4.to_excel(r'C:\\Users\\Thomas\\Downloads\\Base_v2\\zOutros\\TopAlta.xlsx')"
   ]
  },
  {
   "cell_type": "code",
   "execution_count": 10,
   "metadata": {},
   "outputs": [
    {
     "ename": "ValueError",
     "evalue": "8 columns passed, passed data had 9 columns",
     "output_type": "error",
     "traceback": [
      "\u001b[1;31m---------------------------------------------------------------------------\u001b[0m",
      "\u001b[1;31mAssertionError\u001b[0m                            Traceback (most recent call last)",
      "File \u001b[1;32mc:\\Users\\Thomas\\AppData\\Local\\Programs\\Python\\Python39\\lib\\site-packages\\pandas\\core\\internals\\construction.py:906\u001b[0m, in \u001b[0;36m_finalize_columns_and_data\u001b[1;34m(content, columns, dtype)\u001b[0m\n\u001b[0;32m    905\u001b[0m \u001b[38;5;28;01mtry\u001b[39;00m:\n\u001b[1;32m--> 906\u001b[0m     columns \u001b[38;5;241m=\u001b[39m \u001b[43m_validate_or_indexify_columns\u001b[49m\u001b[43m(\u001b[49m\u001b[43mcontents\u001b[49m\u001b[43m,\u001b[49m\u001b[43m \u001b[49m\u001b[43mcolumns\u001b[49m\u001b[43m)\u001b[49m\n\u001b[0;32m    907\u001b[0m \u001b[38;5;28;01mexcept\u001b[39;00m \u001b[38;5;167;01mAssertionError\u001b[39;00m \u001b[38;5;28;01mas\u001b[39;00m err:\n\u001b[0;32m    908\u001b[0m     \u001b[38;5;66;03m# GH#26429 do not raise user-facing AssertionError\u001b[39;00m\n",
      "File \u001b[1;32mc:\\Users\\Thomas\\AppData\\Local\\Programs\\Python\\Python39\\lib\\site-packages\\pandas\\core\\internals\\construction.py:954\u001b[0m, in \u001b[0;36m_validate_or_indexify_columns\u001b[1;34m(content, columns)\u001b[0m\n\u001b[0;32m    952\u001b[0m \u001b[38;5;28;01mif\u001b[39;00m \u001b[38;5;129;01mnot\u001b[39;00m is_mi_list \u001b[38;5;129;01mand\u001b[39;00m \u001b[38;5;28mlen\u001b[39m(columns) \u001b[38;5;241m!=\u001b[39m \u001b[38;5;28mlen\u001b[39m(content):  \u001b[38;5;66;03m# pragma: no cover\u001b[39;00m\n\u001b[0;32m    953\u001b[0m     \u001b[38;5;66;03m# caller's responsibility to check for this...\u001b[39;00m\n\u001b[1;32m--> 954\u001b[0m     \u001b[38;5;28;01mraise\u001b[39;00m \u001b[38;5;167;01mAssertionError\u001b[39;00m(\n\u001b[0;32m    955\u001b[0m         \u001b[38;5;124mf\u001b[39m\u001b[38;5;124m\"\u001b[39m\u001b[38;5;132;01m{\u001b[39;00m\u001b[38;5;28mlen\u001b[39m(columns)\u001b[38;5;132;01m}\u001b[39;00m\u001b[38;5;124m columns passed, passed data had \u001b[39m\u001b[38;5;124m\"\u001b[39m\n\u001b[0;32m    956\u001b[0m         \u001b[38;5;124mf\u001b[39m\u001b[38;5;124m\"\u001b[39m\u001b[38;5;132;01m{\u001b[39;00m\u001b[38;5;28mlen\u001b[39m(content)\u001b[38;5;132;01m}\u001b[39;00m\u001b[38;5;124m columns\u001b[39m\u001b[38;5;124m\"\u001b[39m\n\u001b[0;32m    957\u001b[0m     )\n\u001b[0;32m    958\u001b[0m \u001b[38;5;28;01melif\u001b[39;00m is_mi_list:\n\u001b[0;32m    959\u001b[0m \n\u001b[0;32m    960\u001b[0m     \u001b[38;5;66;03m# check if nested list column, length of each sub-list should be equal\u001b[39;00m\n",
      "\u001b[1;31mAssertionError\u001b[0m: 8 columns passed, passed data had 9 columns",
      "\nThe above exception was the direct cause of the following exception:\n",
      "\u001b[1;31mValueError\u001b[0m                                Traceback (most recent call last)",
      "Input \u001b[1;32mIn [10]\u001b[0m, in \u001b[0;36m<module>\u001b[1;34m\u001b[0m\n\u001b[0;32m     24\u001b[0m file_path \u001b[38;5;241m=\u001b[39m \u001b[38;5;124mr\u001b[39m\u001b[38;5;124m'\u001b[39m\u001b[38;5;124mC:\u001b[39m\u001b[38;5;124m\\\u001b[39m\u001b[38;5;124mUsers\u001b[39m\u001b[38;5;124m\\\u001b[39m\u001b[38;5;124mThomas\u001b[39m\u001b[38;5;124m\\\u001b[39m\u001b[38;5;124mDownloads\u001b[39m\u001b[38;5;124m\\\u001b[39m\u001b[38;5;124mLeiaLicitacao_v2\u001b[39m\u001b[38;5;124m\\\u001b[39m\u001b[38;5;124moutput.txt\u001b[39m\u001b[38;5;124m'\u001b[39m\n\u001b[0;32m     26\u001b[0m \u001b[38;5;66;03m# Processar o arquivo e obter o DataFrame\u001b[39;00m\n\u001b[1;32m---> 27\u001b[0m df \u001b[38;5;241m=\u001b[39m \u001b[43mprocess_file_to_dataframe\u001b[49m\u001b[43m(\u001b[49m\u001b[43mfile_path\u001b[49m\u001b[43m)\u001b[49m\n\u001b[0;32m     29\u001b[0m \u001b[38;5;66;03m# Exibir o DataFrame\u001b[39;00m\n\u001b[0;32m     30\u001b[0m \u001b[38;5;28mprint\u001b[39m(df)\n",
      "Input \u001b[1;32mIn [10]\u001b[0m, in \u001b[0;36mprocess_file_to_dataframe\u001b[1;34m(file_path)\u001b[0m\n\u001b[0;32m     16\u001b[0m data_rows \u001b[38;5;241m=\u001b[39m [line\u001b[38;5;241m.\u001b[39msplit(\u001b[38;5;124m'\u001b[39m\u001b[38;5;130;01m\\t\u001b[39;00m\u001b[38;5;124m'\u001b[39m) \u001b[38;5;28;01mfor\u001b[39;00m line \u001b[38;5;129;01min\u001b[39;00m lines[\u001b[38;5;241m1\u001b[39m:]]\n\u001b[0;32m     18\u001b[0m \u001b[38;5;66;03m# Criar o DataFrame\u001b[39;00m\n\u001b[1;32m---> 19\u001b[0m df \u001b[38;5;241m=\u001b[39m \u001b[43mpd\u001b[49m\u001b[38;5;241;43m.\u001b[39;49m\u001b[43mDataFrame\u001b[49m\u001b[43m(\u001b[49m\u001b[43mdata_rows\u001b[49m\u001b[43m,\u001b[49m\u001b[43m \u001b[49m\u001b[43mcolumns\u001b[49m\u001b[38;5;241;43m=\u001b[39;49m\u001b[43mheader\u001b[49m\u001b[43m)\u001b[49m\n\u001b[0;32m     21\u001b[0m \u001b[38;5;28;01mreturn\u001b[39;00m df\n",
      "File \u001b[1;32mc:\\Users\\Thomas\\AppData\\Local\\Programs\\Python\\Python39\\lib\\site-packages\\pandas\\core\\frame.py:694\u001b[0m, in \u001b[0;36mDataFrame.__init__\u001b[1;34m(self, data, index, columns, dtype, copy)\u001b[0m\n\u001b[0;32m    689\u001b[0m     \u001b[38;5;28;01mif\u001b[39;00m columns \u001b[38;5;129;01mis\u001b[39;00m \u001b[38;5;129;01mnot\u001b[39;00m \u001b[38;5;28;01mNone\u001b[39;00m:\n\u001b[0;32m    690\u001b[0m         \u001b[38;5;66;03m# error: Argument 1 to \"ensure_index\" has incompatible type\u001b[39;00m\n\u001b[0;32m    691\u001b[0m         \u001b[38;5;66;03m# \"Collection[Any]\"; expected \"Union[Union[Union[ExtensionArray,\u001b[39;00m\n\u001b[0;32m    692\u001b[0m         \u001b[38;5;66;03m# ndarray], Index, Series], Sequence[Any]]\"\u001b[39;00m\n\u001b[0;32m    693\u001b[0m         columns \u001b[38;5;241m=\u001b[39m ensure_index(columns)  \u001b[38;5;66;03m# type: ignore[arg-type]\u001b[39;00m\n\u001b[1;32m--> 694\u001b[0m     arrays, columns, index \u001b[38;5;241m=\u001b[39m \u001b[43mnested_data_to_arrays\u001b[49m\u001b[43m(\u001b[49m\n\u001b[0;32m    695\u001b[0m \u001b[43m        \u001b[49m\u001b[38;5;66;43;03m# error: Argument 3 to \"nested_data_to_arrays\" has incompatible\u001b[39;49;00m\n\u001b[0;32m    696\u001b[0m \u001b[43m        \u001b[49m\u001b[38;5;66;43;03m# type \"Optional[Collection[Any]]\"; expected \"Optional[Index]\"\u001b[39;49;00m\n\u001b[0;32m    697\u001b[0m \u001b[43m        \u001b[49m\u001b[43mdata\u001b[49m\u001b[43m,\u001b[49m\n\u001b[0;32m    698\u001b[0m \u001b[43m        \u001b[49m\u001b[43mcolumns\u001b[49m\u001b[43m,\u001b[49m\n\u001b[0;32m    699\u001b[0m \u001b[43m        \u001b[49m\u001b[43mindex\u001b[49m\u001b[43m,\u001b[49m\u001b[43m  \u001b[49m\u001b[38;5;66;43;03m# type: ignore[arg-type]\u001b[39;49;00m\n\u001b[0;32m    700\u001b[0m \u001b[43m        \u001b[49m\u001b[43mdtype\u001b[49m\u001b[43m,\u001b[49m\n\u001b[0;32m    701\u001b[0m \u001b[43m    \u001b[49m\u001b[43m)\u001b[49m\n\u001b[0;32m    702\u001b[0m     mgr \u001b[38;5;241m=\u001b[39m arrays_to_mgr(\n\u001b[0;32m    703\u001b[0m         arrays,\n\u001b[0;32m    704\u001b[0m         columns,\n\u001b[1;32m   (...)\u001b[0m\n\u001b[0;32m    708\u001b[0m         typ\u001b[38;5;241m=\u001b[39mmanager,\n\u001b[0;32m    709\u001b[0m     )\n\u001b[0;32m    710\u001b[0m \u001b[38;5;28;01melse\u001b[39;00m:\n",
      "File \u001b[1;32mc:\\Users\\Thomas\\AppData\\Local\\Programs\\Python\\Python39\\lib\\site-packages\\pandas\\core\\internals\\construction.py:483\u001b[0m, in \u001b[0;36mnested_data_to_arrays\u001b[1;34m(data, columns, index, dtype)\u001b[0m\n\u001b[0;32m    480\u001b[0m \u001b[38;5;28;01mif\u001b[39;00m is_named_tuple(data[\u001b[38;5;241m0\u001b[39m]) \u001b[38;5;129;01mand\u001b[39;00m columns \u001b[38;5;129;01mis\u001b[39;00m \u001b[38;5;28;01mNone\u001b[39;00m:\n\u001b[0;32m    481\u001b[0m     columns \u001b[38;5;241m=\u001b[39m ensure_index(data[\u001b[38;5;241m0\u001b[39m]\u001b[38;5;241m.\u001b[39m_fields)\n\u001b[1;32m--> 483\u001b[0m arrays, columns \u001b[38;5;241m=\u001b[39m \u001b[43mto_arrays\u001b[49m\u001b[43m(\u001b[49m\u001b[43mdata\u001b[49m\u001b[43m,\u001b[49m\u001b[43m \u001b[49m\u001b[43mcolumns\u001b[49m\u001b[43m,\u001b[49m\u001b[43m \u001b[49m\u001b[43mdtype\u001b[49m\u001b[38;5;241;43m=\u001b[39;49m\u001b[43mdtype\u001b[49m\u001b[43m)\u001b[49m\n\u001b[0;32m    484\u001b[0m columns \u001b[38;5;241m=\u001b[39m ensure_index(columns)\n\u001b[0;32m    486\u001b[0m \u001b[38;5;28;01mif\u001b[39;00m index \u001b[38;5;129;01mis\u001b[39;00m \u001b[38;5;28;01mNone\u001b[39;00m:\n",
      "File \u001b[1;32mc:\\Users\\Thomas\\AppData\\Local\\Programs\\Python\\Python39\\lib\\site-packages\\pandas\\core\\internals\\construction.py:807\u001b[0m, in \u001b[0;36mto_arrays\u001b[1;34m(data, columns, dtype)\u001b[0m\n\u001b[0;32m    804\u001b[0m     data \u001b[38;5;241m=\u001b[39m [\u001b[38;5;28mtuple\u001b[39m(x) \u001b[38;5;28;01mfor\u001b[39;00m x \u001b[38;5;129;01min\u001b[39;00m data]\n\u001b[0;32m    805\u001b[0m     arr \u001b[38;5;241m=\u001b[39m _list_to_arrays(data)\n\u001b[1;32m--> 807\u001b[0m content, columns \u001b[38;5;241m=\u001b[39m \u001b[43m_finalize_columns_and_data\u001b[49m\u001b[43m(\u001b[49m\u001b[43marr\u001b[49m\u001b[43m,\u001b[49m\u001b[43m \u001b[49m\u001b[43mcolumns\u001b[49m\u001b[43m,\u001b[49m\u001b[43m \u001b[49m\u001b[43mdtype\u001b[49m\u001b[43m)\u001b[49m\n\u001b[0;32m    808\u001b[0m \u001b[38;5;28;01mreturn\u001b[39;00m content, columns\n",
      "File \u001b[1;32mc:\\Users\\Thomas\\AppData\\Local\\Programs\\Python\\Python39\\lib\\site-packages\\pandas\\core\\internals\\construction.py:909\u001b[0m, in \u001b[0;36m_finalize_columns_and_data\u001b[1;34m(content, columns, dtype)\u001b[0m\n\u001b[0;32m    906\u001b[0m     columns \u001b[38;5;241m=\u001b[39m _validate_or_indexify_columns(contents, columns)\n\u001b[0;32m    907\u001b[0m \u001b[38;5;28;01mexcept\u001b[39;00m \u001b[38;5;167;01mAssertionError\u001b[39;00m \u001b[38;5;28;01mas\u001b[39;00m err:\n\u001b[0;32m    908\u001b[0m     \u001b[38;5;66;03m# GH#26429 do not raise user-facing AssertionError\u001b[39;00m\n\u001b[1;32m--> 909\u001b[0m     \u001b[38;5;28;01mraise\u001b[39;00m \u001b[38;5;167;01mValueError\u001b[39;00m(err) \u001b[38;5;28;01mfrom\u001b[39;00m \u001b[38;5;21;01merr\u001b[39;00m\n\u001b[0;32m    911\u001b[0m \u001b[38;5;28;01mif\u001b[39;00m \u001b[38;5;28mlen\u001b[39m(contents) \u001b[38;5;129;01mand\u001b[39;00m contents[\u001b[38;5;241m0\u001b[39m]\u001b[38;5;241m.\u001b[39mdtype \u001b[38;5;241m==\u001b[39m np\u001b[38;5;241m.\u001b[39mobject_:\n\u001b[0;32m    912\u001b[0m     contents \u001b[38;5;241m=\u001b[39m _convert_object_array(contents, dtype\u001b[38;5;241m=\u001b[39mdtype)\n",
      "\u001b[1;31mValueError\u001b[0m: 8 columns passed, passed data had 9 columns"
     ]
    }
   ],
   "source": [
    "import pandas as pd\n",
    "\n",
    "# Função para ler o arquivo e transformar em DataFrame\n",
    "def process_file_to_dataframe(file_path):\n",
    "    # Ler o conteúdo do arquivo\n",
    "    with open(file_path, 'r', encoding='utf-8') as file:\n",
    "        text = file.read()\n",
    "    \n",
    "    # Dividir o texto em linhas\n",
    "    lines = text.split('\\n')\n",
    "    \n",
    "    # Extrair o cabeçalho\n",
    "    header = lines[0].split('\\t')\n",
    "    \n",
    "    # Extrair as linhas de dados\n",
    "    data_rows = [line.split('\\t') for line in lines[1:]]\n",
    "    \n",
    "    # Criar o DataFrame\n",
    "    df = pd.DataFrame(data_rows, columns=header)\n",
    "    \n",
    "    return df\n",
    "\n",
    "# Caminho para o arquivo de texto\n",
    "file_path = r'C:\\Users\\Thomas\\Downloads\\LeiaLicitacao_v2\\output.txt'\n",
    "\n",
    "# Processar o arquivo e obter o DataFrame\n",
    "df = process_file_to_dataframe(file_path)\n",
    "\n",
    "# Exibir o DataFrame\n",
    "print(df)"
   ]
  },
  {
   "cell_type": "code",
   "execution_count": 11,
   "metadata": {},
   "outputs": [
    {
     "name": "stdout",
     "output_type": "stream",
     "text": [
      "Warning: Row 43 has a different number of columns. Adjusting...\n",
      "Warning: Row 216 has a different number of columns. Adjusting...\n",
      "Warning: Row 521 has a different number of columns. Adjusting...\n",
      "Warning: Row 628 has a different number of columns. Adjusting...\n",
      "Warning: Row 713 has a different number of columns. Adjusting...\n",
      "Warning: Row 714 has a different number of columns. Adjusting...\n",
      "Warning: Row 768 has a different number of columns. Adjusting...\n",
      "Warning: Row 770 has a different number of columns. Adjusting...\n",
      "Warning: Row 772 has a different number of columns. Adjusting...\n",
      "Warning: Row 876 has a different number of columns. Adjusting...\n",
      "Warning: Row 886 has a different number of columns. Adjusting...\n",
      "Warning: Row 948 has a different number of columns. Adjusting...\n",
      "Warning: Row 949 has a different number of columns. Adjusting...\n",
      "Warning: Row 950 has a different number of columns. Adjusting...\n",
      "Warning: Row 1032 has a different number of columns. Adjusting...\n",
      "Warning: Row 1033 has a different number of columns. Adjusting...\n",
      "Warning: Row 1034 has a different number of columns. Adjusting...\n",
      "Warning: Row 1035 has a different number of columns. Adjusting...\n",
      "Warning: Row 1036 has a different number of columns. Adjusting...\n",
      "Warning: Row 1037 has a different number of columns. Adjusting...\n",
      "Warning: Row 1074 has a different number of columns. Adjusting...\n",
      "Warning: Row 1075 has a different number of columns. Adjusting...\n",
      "Warning: Row 1076 has a different number of columns. Adjusting...\n",
      "Warning: Row 1077 has a different number of columns. Adjusting...\n",
      "                                                 Objeto  \\\n",
      "0     * licitacao eletronica * servico de terceiros ...   \n",
      "1     * licitacao eletronica * contratacao de empres...   \n",
      "2     * licitacao eletronica * aquisicao de servicos...   \n",
      "3     * licitacao eletronica * construcao de uma sal...   \n",
      "4                          reforma em ambiente escolar.   \n",
      "...                                                 ...   \n",
      "1135  * licitacao eletronica * - contratacao de empr...   \n",
      "1136  * licitacao eletronica * - contratacao de empr...   \n",
      "1137  * licitacao eletronica * - contratacao de serv...   \n",
      "1138  * licitacao eletronica * - contratacao de empr...   \n",
      "1139  * licitacao eletronica * - contratacao de serv...   \n",
      "\n",
      "                             Data     Tipo         Numero N Conlicitacao  \\\n",
      "0      Abertura: 18/09/2024 17:00  URGENTE  DL/20648/2024       16982866   \n",
      "1      Abertura: 19/09/2024 07:00  URGENTE  DL/24959/2024       16982878   \n",
      "2      Abertura: 18/09/2024 15:15  URGENTE  DL/24668/2024       16982870   \n",
      "3      Abertura: 18/09/2024 15:00  URGENTE  DL/21267/2024       16982917   \n",
      "4     Documento: 19/09/2024 09:00  URGENTE     DL/38/2024       16983144   \n",
      "...                           ...      ...            ...            ...   \n",
      "1135  Documento: 02/10/2024 14:00   EDITAL  CR/90009/2024       16988226   \n",
      "1136  Documento: 08/11/2024 11:00   EDITAL  CR/90020/2024       16988225   \n",
      "1137  Documento: 07/10/2024 14:00   EDITAL  CR/90002/2024       16988244   \n",
      "1138  Documento: 02/10/2024 10:00   EDITAL  CR/90017/2024       16988235   \n",
      "1139   Abertura: 02/10/2024 09:00   EDITAL  PE/90036/2024       16987480   \n",
      "\n",
      "                                                  Local      Cidade Estado  \n",
      "0     Secretaria Estadual de Educação Básica - EEM G...    Ipueiras     CE  \n",
      "1     Secretaria Estadual de Educação Básica - Coord...      Russas     CE  \n",
      "2     Secretaria Estadual de Educação Básica - E.E.F...     Itapajé     CE  \n",
      "3     Secretaria da Educação Básica - E.E.F.M Antoni...  Maranguape     CE  \n",
      "4                  Caixa Escolar Segismundo Pereirainfo  Uberlândia     MG  \n",
      "...                                                 ...         ...    ...  \n",
      "1135  925066 - Secretaria Municipal de Coordenação d...   São Paulo     SP  \n",
      "1136  925058 - Secretaria Municipal de Infra-Estrutu...   São Paulo     SP  \n",
      "1137  925088 - Secretaria Municipal de Coordenação d...   São Paulo     SP  \n",
      "1138  925087 - Secretaria Municipal de Coordenação d...   São Paulo     SP  \n",
      "1139  158131 - MINISTÉRIO DA EDUCAÇÃO - Instituto Fe...      Palmas     TO  \n",
      "\n",
      "[1140 rows x 8 columns]\n"
     ]
    }
   ],
   "source": [
    "import pandas as pd\n",
    "\n",
    "# Função para ler o arquivo e transformar em DataFrame\n",
    "def process_file_to_dataframe(file_path):\n",
    "    # Ler o conteúdo do arquivo\n",
    "    with open(file_path, 'r', encoding='utf-8') as file:\n",
    "        text = file.read()\n",
    "    \n",
    "    # Dividir o texto em linhas\n",
    "    lines = text.split('\\n')\n",
    "    \n",
    "    # Extrair o cabeçalho\n",
    "    header = lines[0].split('\\t')\n",
    "    \n",
    "    # Extrair as linhas de dados\n",
    "    data_rows = [line.split('\\t') for line in lines[1:] if line]\n",
    "    \n",
    "    # Corrigir o número de colunas se necessário\n",
    "    for i, row in enumerate(data_rows):\n",
    "        if len(row) != len(header):\n",
    "            print(f\"Warning: Row {i+1} has a different number of columns. Adjusting...\")\n",
    "            # Tratar caso em que há mais colunas nos dados do que no cabeçalho\n",
    "            if len(row) > len(header):\n",
    "                data_rows[i] = row[:len(header)]\n",
    "            # Tratar caso em que há menos colunas nos dados do que no cabeçalho\n",
    "            elif len(row) < len(header):\n",
    "                data_rows[i] = row + [''] * (len(header) - len(row))\n",
    "    \n",
    "    # Criar o DataFrame\n",
    "    df = pd.DataFrame(data_rows, columns=header)\n",
    "    \n",
    "    return df\n",
    "\n",
    "# Caminho para o arquivo de texto\n",
    "file_path = r'C:\\Users\\Thomas\\Downloads\\LeiaLicitacao_v2\\output.txt'\n",
    "\n",
    "# Processar o arquivo e obter o DataFrame\n",
    "df = process_file_to_dataframe(file_path)\n",
    "\n",
    "# Exibir o DataFrame\n",
    "print(df)"
   ]
  },
  {
   "cell_type": "code",
   "execution_count": 12,
   "metadata": {},
   "outputs": [],
   "source": [
    "import pandas as pd\n",
    "import openpyxl\n",
    "import re\n",
    "\n",
    "# Função para remover caracteres ilegais\n",
    "def remove_illegal_chars(value):\n",
    "    if isinstance(value, str):\n",
    "        # Substitui caracteres ilegais por uma string vazia\n",
    "        return re.sub(r'[\\x00-\\x1F\\x7F-\\x9F]', '', value)\n",
    "    return value\n",
    "\n",
    "# Aplica a função ao DataFrame inteiro\n",
    "df = df.applymap(remove_illegal_chars)\n",
    "\n",
    "# Salva o DataFrame em um arquivo Excel\n",
    "df.to_excel(r'C:\\Users\\Thomas\\Downloads\\LeiaLicitacao_v2\\spreadsheets\\licitacaoEditado.xlsx', index=False)\n"
   ]
  }
 ],
 "metadata": {
  "kernelspec": {
   "display_name": "Python 3",
   "language": "python",
   "name": "python3"
  },
  "language_info": {
   "codemirror_mode": {
    "name": "ipython",
    "version": 3
   },
   "file_extension": ".py",
   "mimetype": "text/x-python",
   "name": "python",
   "nbconvert_exporter": "python",
   "pygments_lexer": "ipython3",
   "version": "3.9.7"
  }
 },
 "nbformat": 4,
 "nbformat_minor": 2
}
