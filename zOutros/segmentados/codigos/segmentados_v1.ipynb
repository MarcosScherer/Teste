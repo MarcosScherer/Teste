{
 "cells": [
  {
   "cell_type": "code",
   "execution_count": 2,
   "metadata": {},
   "outputs": [],
   "source": [
    "import pandas as pd\n",
    "from openpyxl import load_workbook"
   ]
  },
  {
   "cell_type": "code",
   "execution_count": 3,
   "metadata": {},
   "outputs": [
    {
     "name": "stdout",
     "output_type": "stream",
     "text": [
      "O DataFrame foi inserido na aba 'NovaAba' do arquivo C:\\Users\\Thomas\\Downloads\\Base_v2\\zOutros\\segmentados\\planilhas\\teste.xlsx.\n"
     ]
    }
   ],
   "source": [
    "# Criação de um DataFrame de exemplo\n",
    "dados = {\n",
    "    'Nome': ['Maria', 'João', 'Ana'],\n",
    "    'Idade': [25, 30, 22],\n",
    "    'Cidade': ['São Paulo', 'Rio de Janeiro', 'Curitiba']\n",
    "}\n",
    "df = pd.DataFrame(dados)\n",
    "\n",
    "# Caminho do arquivo Excel existente\n",
    "caminho_arquivo = r'C:\\Users\\Thomas\\Downloads\\Base_v2\\zOutros\\segmentados\\planilhas\\teste.xlsx'\n",
    "\n",
    "# Carregar a planilha existente\n",
    "workbook = load_workbook(caminho_arquivo)\n",
    "\n",
    "# Criar uma nova aba com o nome \"NovaAba\"\n",
    "nova_aba = workbook.create_sheet(title=\"NovaAba\")\n",
    "\n",
    "# Inserir o DataFrame na aba, a partir da célula B1\n",
    "for r_idx, row in enumerate(df.iterrows(), 1):\n",
    "    for c_idx, value in enumerate(row[1], 2):  # Começa na coluna B (índice 2)\n",
    "        nova_aba.cell(row=r_idx, column=c_idx, value=value)\n",
    "\n",
    "# Salvar as alterações no arquivo Excel\n",
    "workbook.save(caminho_arquivo)\n",
    "\n",
    "print(f\"O DataFrame foi inserido na aba 'NovaAba' do arquivo {caminho_arquivo}.\")\n"
   ]
  },
  {
   "cell_type": "code",
   "execution_count": 5,
   "metadata": {},
   "outputs": [
    {
     "name": "stdout",
     "output_type": "stream",
     "text": [
      "O DataFrame foi inserido na aba 'NovaAba' do arquivo C:\\Users\\Thomas\\Downloads\\Base_v2\\zOutros\\segmentados\\planilhas\\teste.xlsx.\n"
     ]
    }
   ],
   "source": [
    "import pandas as pd\n",
    "from openpyxl import load_workbook\n",
    "from openpyxl.utils import column_index_from_string\n",
    "\n",
    "def inserir_dataframe_na_aba(df, aba, celula_referencia):\n",
    "    # Extrair a linha e a coluna da célula de referência\n",
    "    coluna_inicial = ''.join(filter(str.isalpha, celula_referencia))\n",
    "    linha_inicial = int(''.join(filter(str.isdigit, celula_referencia)))\n",
    "    \n",
    "    # Converter a coluna inicial de letra para índice numérico\n",
    "    coluna_inicial_idx = column_index_from_string(coluna_inicial)\n",
    "    \n",
    "    # Inserir o DataFrame na aba a partir da célula de referência\n",
    "    for r_idx, row in enumerate(df.iterrows(), linha_inicial):\n",
    "        for c_idx, value in enumerate(row[1], coluna_inicial_idx):\n",
    "            aba.cell(row=r_idx, column=c_idx, value=value)\n",
    "\n",
    "# Exemplo de uso:\n",
    "# Caminho do arquivo Excel existente\n",
    "caminho_arquivo = r'C:\\Users\\Thomas\\Downloads\\Base_v2\\zOutros\\segmentados\\planilhas\\teste.xlsx'\n",
    "\n",
    "# Criação de um DataFrame de exemplo\n",
    "dados = {\n",
    "    'Nome': ['Maria', 'João', 'Ana'],\n",
    "    'Idade': [25, 30, 22],\n",
    "    'Cidade': ['São Paulo', 'Rio de Janeiro', 'Curitiba']\n",
    "}\n",
    "df = pd.DataFrame(dados)\n",
    "\n",
    "# Carregar a planilha existente\n",
    "workbook = load_workbook(caminho_arquivo)\n",
    "\n",
    "# Criar uma nova aba com o nome \"NovaAba\"\n",
    "nova_aba = workbook.create_sheet(title=\"NovaAba\")\n",
    "\n",
    "# Usar a função para inserir o DataFrame na nova aba a partir da célula B1\n",
    "inserir_dataframe_na_aba(df, nova_aba, 'B1')\n",
    "\n",
    "# Salvar as alterações no arquivo Excel\n",
    "workbook.save(caminho_arquivo)\n",
    "\n",
    "print(f\"O DataFrame foi inserido na aba 'NovaAba' do arquivo {caminho_arquivo}.\")"
   ]
  }
 ],
 "metadata": {
  "kernelspec": {
   "display_name": "Python 3",
   "language": "python",
   "name": "python3"
  },
  "language_info": {
   "codemirror_mode": {
    "name": "ipython",
    "version": 3
   },
   "file_extension": ".py",
   "mimetype": "text/x-python",
   "name": "python",
   "nbconvert_exporter": "python",
   "pygments_lexer": "ipython3",
   "version": "3.9.7"
  }
 },
 "nbformat": 4,
 "nbformat_minor": 2
}
