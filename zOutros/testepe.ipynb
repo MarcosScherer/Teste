{
 "cells": [
  {
   "cell_type": "code",
   "execution_count": 5,
   "metadata": {},
   "outputs": [],
   "source": [
    "import pandas as pd\n",
    "import math\n",
    "import numpy as np\n",
    "import os\n",
    "import dataframe_image as di\n",
    "\n",
    "from unidecode import unidecode\n",
    "import re"
   ]
  },
  {
   "cell_type": "code",
   "execution_count": 6,
   "metadata": {},
   "outputs": [],
   "source": [
    "caminho_original = r'C:\\Users\\Thomas\\Downloads\\New folder (4)\\bradescosegurosApp_02-08-24 All Files\\bradescosegurosApp_02-08-24\\Emissoes\\Aline_Regina_Diogo_Gonzaga.xlsx'"
   ]
  },
  {
   "cell_type": "code",
   "execution_count": 7,
   "metadata": {},
   "outputs": [
    {
     "name": "stderr",
     "output_type": "stream",
     "text": [
      "c:\\Users\\Thomas\\AppData\\Local\\Programs\\Python\\Python39\\lib\\site-packages\\openpyxl\\styles\\stylesheet.py:221: UserWarning: Workbook contains no default style, apply openpyxl's default\n",
      "  warn(\"Workbook contains no default style, apply openpyxl's default\")\n"
     ]
    }
   ],
   "source": [
    "df = pd.read_excel(caminho_original)"
   ]
  },
  {
   "cell_type": "code",
   "execution_count": null,
   "metadata": {},
   "outputs": [],
   "source": [
    "sep_col_header = {'Companhia':['Cod Companhia', 'Companhia'],\n",
    "                'Assessoria':['CNPJ Assessoria', 'Assessoria'],\n",
    "                'Sucursal':['Cod Sucursal', 'Sucursal'],\n",
    "                'Inspetor de produção':['CPF Inspetor de producao', 'Inspetor de producao'],\n",
    "                'Corretor':['CPD Corretor','Corretor']\n",
    "                }"
   ]
  },
  {
   "cell_type": "code",
   "execution_count": null,
   "metadata": {},
   "outputs": [],
   "source": [
    "for key, value in sep_col_header.items():\n",
    "\n",
    "    if key == 'Corretor':\n",
    "        df[value[0]] = df['Corretor'].str[:6]\n",
    "        df[key] = df['Corretor'].str[9:]\n",
    "        continue\n",
    "\n",
    "    df[[value[0], key]] = df[key].str.split(' - ', expand=True)"
   ]
  },
  {
   "cell_type": "code",
   "execution_count": null,
   "metadata": {},
   "outputs": [],
   "source": []
  },
  {
   "cell_type": "code",
   "execution_count": null,
   "metadata": {},
   "outputs": [],
   "source": []
  }
 ],
 "metadata": {
  "kernelspec": {
   "display_name": "Python 3",
   "language": "python",
   "name": "python3"
  },
  "language_info": {
   "codemirror_mode": {
    "name": "ipython",
    "version": 3
   },
   "file_extension": ".py",
   "mimetype": "text/x-python",
   "name": "python",
   "nbconvert_exporter": "python",
   "pygments_lexer": "ipython3",
   "version": "3.9.7"
  }
 },
 "nbformat": 4,
 "nbformat_minor": 2
}
