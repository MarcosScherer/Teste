{
 "cells": [
  {
   "cell_type": "code",
   "execution_count": 1,
   "metadata": {},
   "outputs": [],
   "source": [
    "import pandas as pd\n",
    "\n",
    "import agrupa_excel_v2 as ag\n",
    "\n",
    "import pandas as pd\n",
    "import re\n",
    "from unidecode import unidecode\n",
    "import os\n",
    "\n",
    "from openpyxl import load_workbook\n",
    "from openpyxl.styles import NamedStyle, PatternFill, Font, numbers\n",
    "from openpyxl.worksheet.table import Table, TableStyleInfo"
   ]
  },
  {
   "cell_type": "code",
   "execution_count": 2,
   "metadata": {},
   "outputs": [],
   "source": [
    "df = pd.read_excel(r'C:\\Users\\Thomas\\Downloads\\Base_v2\\Emissao\\Dados_Emissao\\Agrupado\\Emissoes_agrupado.xlsx')\n",
    "df_foco = pd.read_excel(r'C:\\Users\\Thomas\\Downloads\\Base_v2\\zOutros\\corretoresfoco.xlsx')"
   ]
  },
  {
   "cell_type": "code",
   "execution_count": 3,
   "metadata": {},
   "outputs": [],
   "source": [
    "df1 = df.drop_duplicates(subset='Corretor')[['Inspetor de producao', 'Corretor']].copy()"
   ]
  },
  {
   "cell_type": "code",
   "execution_count": 4,
   "metadata": {},
   "outputs": [],
   "source": [
    "df['Ramo Seguro'].fillna('Zerado', inplace=True)\n",
    "df['Ramo Seguro'] = df['Ramo Seguro'].replace({'Condominio': 'Demais RE', 'Empresarial': 'Demais RE','Equipamento Agricola':'Demais RE','Equipamento':'Demais RE'})"
   ]
  },
  {
   "cell_type": "code",
   "execution_count": 5,
   "metadata": {},
   "outputs": [],
   "source": [
    "df2 = df.pivot_table(index='Corretor', columns='Ramo Seguro', aggfunc='size', fill_value=0)"
   ]
  },
  {
   "cell_type": "code",
   "execution_count": 6,
   "metadata": {},
   "outputs": [],
   "source": [
    "df3 = pd.merge(df1, df2, on='Corretor', how='inner')\n",
    "df3[\"Total\"] = df3[[\"Auto\", \"Residencial Sob Medida\", \"Demais RE\", 'Frota']].sum(axis=1)"
   ]
  },
  {
   "cell_type": "code",
   "execution_count": 7,
   "metadata": {},
   "outputs": [],
   "source": [
    "df3 = df3[['Inspetor de producao','Corretor','Auto', 'Residencial Sob Medida', 'Demais RE', 'Total']]"
   ]
  },
  {
   "cell_type": "code",
   "execution_count": 8,
   "metadata": {},
   "outputs": [],
   "source": [
    "df4 = df[df['Corretor'] == 'TOP ALTA PROTECAO CORRETORA DE S'][['Corretor', 'Ramo Seguro', 'Inspetor de producao', 'Cod Sucursal']]"
   ]
  },
  {
   "cell_type": "code",
   "execution_count": 9,
   "metadata": {},
   "outputs": [],
   "source": [
    "df3.to_excel(r'C:\\Users\\Thomas\\Downloads\\Base_v2\\zOutros\\producao.xlsx')\n",
    "df4.to_excel(r'C:\\Users\\Thomas\\Downloads\\Base_v2\\zOutros\\TopAlta.xlsx')"
   ]
  }
 ],
 "metadata": {
  "kernelspec": {
   "display_name": "Python 3",
   "language": "python",
   "name": "python3"
  },
  "language_info": {
   "codemirror_mode": {
    "name": "ipython",
    "version": 3
   },
   "file_extension": ".py",
   "mimetype": "text/x-python",
   "name": "python",
   "nbconvert_exporter": "python",
   "pygments_lexer": "ipython3",
   "version": "3.9.7"
  }
 },
 "nbformat": 4,
 "nbformat_minor": 2
}
