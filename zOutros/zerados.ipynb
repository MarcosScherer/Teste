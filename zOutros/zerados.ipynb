{
 "cells": [
  {
   "cell_type": "code",
   "execution_count": 43,
   "metadata": {},
   "outputs": [],
   "source": [
    "import pandas as pd"
   ]
  },
  {
   "cell_type": "code",
   "execution_count": 44,
   "metadata": {},
   "outputs": [],
   "source": [
    "df2 = pd.read_excel(r'C:\\Users\\Thomas\\Downloads\\Base_v2\\Emissao\\Dados_Emissao\\Agrupado\\Emissoes_agrupado.xlsx')"
   ]
  },
  {
   "cell_type": "code",
   "execution_count": 45,
   "metadata": {},
   "outputs": [],
   "source": [
    "df2['Ramo Seguro'].fillna('Zerado', inplace=True)"
   ]
  },
  {
   "cell_type": "code",
   "execution_count": 46,
   "metadata": {},
   "outputs": [],
   "source": [
    "df2 = df2[df2['Inspetor de producao'] == 'Aline Regina Diogo Gonzaga']"
   ]
  },
  {
   "cell_type": "code",
   "execution_count": 47,
   "metadata": {},
   "outputs": [],
   "source": [
    "pivot_df = df2.pivot_table(index='Corretor', columns='Ramo Seguro', aggfunc='size', fill_value=0)\n",
    "#pivot_df = pivot_df.drop(columns=['Zerado'])\n",
    "colunas_piv = ['Auto', 'Residencial sob medida', 'Equipamento', 'Equipamento agrícola', 'Empresarial', 'Frota']\n",
    "colunas_piv_existe = pivot_df.columns.tolist()\n",
    "sequencia_c = [elemento for elemento in colunas_piv if elemento in colunas_piv_existe] #deixa a lista na sequencia certa\n",
    "pivot_df = pivot_df[sequencia_c]"
   ]
  },
  {
   "cell_type": "code",
   "execution_count": 51,
   "metadata": {},
   "outputs": [
    {
     "data": {
      "text/html": [
       "<div>\n",
       "<style scoped>\n",
       "    .dataframe tbody tr th:only-of-type {\n",
       "        vertical-align: middle;\n",
       "    }\n",
       "\n",
       "    .dataframe tbody tr th {\n",
       "        vertical-align: top;\n",
       "    }\n",
       "\n",
       "    .dataframe thead th {\n",
       "        text-align: right;\n",
       "    }\n",
       "</style>\n",
       "<table border=\"1\" class=\"dataframe\">\n",
       "  <thead>\n",
       "    <tr style=\"text-align: right;\">\n",
       "      <th>Ramo Seguro</th>\n",
       "      <th>Auto</th>\n",
       "    </tr>\n",
       "    <tr>\n",
       "      <th>Corretor</th>\n",
       "      <th></th>\n",
       "    </tr>\n",
       "  </thead>\n",
       "  <tbody>\n",
       "    <tr>\n",
       "      <th>ALBA ANDRADE CORRETORA DE SEGURO</th>\n",
       "      <td>0</td>\n",
       "    </tr>\n",
       "    <tr>\n",
       "      <th>BARUCH CORR E ADM DE SEGUROS EIR</th>\n",
       "      <td>0</td>\n",
       "    </tr>\n",
       "    <tr>\n",
       "      <th>BENAIA CORRETORA DE SEGUROS LTDA</th>\n",
       "      <td>0</td>\n",
       "    </tr>\n",
       "    <tr>\n",
       "      <th>ELECT CORRETORA DE SEG E CONSULT</th>\n",
       "      <td>0</td>\n",
       "    </tr>\n",
       "    <tr>\n",
       "      <th>ELIANA DE PAULA TINOCO</th>\n",
       "      <td>0</td>\n",
       "    </tr>\n",
       "    <tr>\n",
       "      <th>FACILIT CORRETORA DE SEGUROS LTD</th>\n",
       "      <td>0</td>\n",
       "    </tr>\n",
       "    <tr>\n",
       "      <th>FS ACERTO CONSULT E CORR DE SEGU</th>\n",
       "      <td>0</td>\n",
       "    </tr>\n",
       "    <tr>\n",
       "      <th>GAMARRA CORRETORA DE SEGUROS LTD</th>\n",
       "      <td>0</td>\n",
       "    </tr>\n",
       "    <tr>\n",
       "      <th>LA OSSA CORRETORA DE SEGUROS LTD</th>\n",
       "      <td>0</td>\n",
       "    </tr>\n",
       "    <tr>\n",
       "      <th>MACEDO MARCONDES ADM E CORR DE S</th>\n",
       "      <td>0</td>\n",
       "    </tr>\n",
       "    <tr>\n",
       "      <th>MULTIPLA ADM CORRETORA DE SEGURO</th>\n",
       "      <td>0</td>\n",
       "    </tr>\n",
       "    <tr>\n",
       "      <th>OLIVEIRA CESNIK CONSULTORIA E CO</th>\n",
       "      <td>0</td>\n",
       "    </tr>\n",
       "    <tr>\n",
       "      <th>PAIVA &amp; PAIVA COR.DE SEGS.LTDA</th>\n",
       "      <td>0</td>\n",
       "    </tr>\n",
       "    <tr>\n",
       "      <th>PATRICIA DE CASTRO CARDOSO</th>\n",
       "      <td>0</td>\n",
       "    </tr>\n",
       "    <tr>\n",
       "      <th>PORTO BR CORRERTORA DE SEGUROS L</th>\n",
       "      <td>0</td>\n",
       "    </tr>\n",
       "    <tr>\n",
       "      <th>RSP CORRETORA DE SEGUROS LTDA</th>\n",
       "      <td>0</td>\n",
       "    </tr>\n",
       "    <tr>\n",
       "      <th>SILVIO RODRIGUES SILVA</th>\n",
       "      <td>0</td>\n",
       "    </tr>\n",
       "    <tr>\n",
       "      <th>SOUSA DIAS ADM E CORR DE SEGUROS</th>\n",
       "      <td>0</td>\n",
       "    </tr>\n",
       "    <tr>\n",
       "      <th>V &amp; B PRADO CORRETORA DE SEGUROS</th>\n",
       "      <td>0</td>\n",
       "    </tr>\n",
       "    <tr>\n",
       "      <th>VIA EXATA COR.DE SEGUROS LTDA</th>\n",
       "      <td>0</td>\n",
       "    </tr>\n",
       "    <tr>\n",
       "      <th>ZION CORRETORA DE SEGUROS LTDA</th>\n",
       "      <td>0</td>\n",
       "    </tr>\n",
       "  </tbody>\n",
       "</table>\n",
       "</div>"
      ],
      "text/plain": [
       "Ramo Seguro                       Auto\n",
       "Corretor                              \n",
       "ALBA ANDRADE CORRETORA DE SEGURO     0\n",
       "BARUCH CORR E ADM DE SEGUROS EIR     0\n",
       "BENAIA CORRETORA DE SEGUROS LTDA     0\n",
       "ELECT CORRETORA DE SEG E CONSULT     0\n",
       "ELIANA DE PAULA TINOCO               0\n",
       "FACILIT CORRETORA DE SEGUROS LTD     0\n",
       "FS ACERTO CONSULT E CORR DE SEGU     0\n",
       "GAMARRA CORRETORA DE SEGUROS LTD     0\n",
       "LA OSSA CORRETORA DE SEGUROS LTD     0\n",
       "MACEDO MARCONDES ADM E CORR DE S     0\n",
       "MULTIPLA ADM CORRETORA DE SEGURO     0\n",
       "OLIVEIRA CESNIK CONSULTORIA E CO     0\n",
       "PAIVA & PAIVA COR.DE SEGS.LTDA       0\n",
       "PATRICIA DE CASTRO CARDOSO           0\n",
       "PORTO BR CORRERTORA DE SEGUROS L     0\n",
       "RSP CORRETORA DE SEGUROS LTDA        0\n",
       "SILVIO RODRIGUES SILVA               0\n",
       "SOUSA DIAS ADM E CORR DE SEGUROS     0\n",
       "V & B PRADO CORRETORA DE SEGUROS     0\n",
       "VIA EXATA COR.DE SEGUROS LTDA        0\n",
       "ZION CORRETORA DE SEGUROS LTDA       0"
      ]
     },
     "execution_count": 51,
     "metadata": {},
     "output_type": "execute_result"
    }
   ],
   "source": [
    "pivot_df[pivot_df['Auto'] == 0][['Auto']]"
   ]
  },
  {
   "cell_type": "code",
   "execution_count": null,
   "metadata": {},
   "outputs": [],
   "source": []
  }
 ],
 "metadata": {
  "kernelspec": {
   "display_name": "Python 3",
   "language": "python",
   "name": "python3"
  },
  "language_info": {
   "codemirror_mode": {
    "name": "ipython",
    "version": 3
   },
   "file_extension": ".py",
   "mimetype": "text/x-python",
   "name": "python",
   "nbconvert_exporter": "python",
   "pygments_lexer": "ipython3",
   "version": "3.9.7"
  }
 },
 "nbformat": 4,
 "nbformat_minor": 2
}
