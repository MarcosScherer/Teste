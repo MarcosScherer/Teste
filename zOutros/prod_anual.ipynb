{
 "cells": [
  {
   "cell_type": "code",
   "execution_count": 1,
   "metadata": {},
   "outputs": [],
   "source": [
    "import pandas as pd\n",
    "\n",
    "import agrupa_excel_v2 as ag\n",
    "\n",
    "import pandas as pd\n",
    "import re\n",
    "from unidecode import unidecode\n",
    "import os\n",
    "\n",
    "from openpyxl import load_workbook\n",
    "from openpyxl.styles import NamedStyle, PatternFill, Font, numbers\n",
    "from openpyxl.worksheet.table import Table, TableStyleInfo"
   ]
  },
  {
   "cell_type": "code",
   "execution_count": 2,
   "metadata": {},
   "outputs": [],
   "source": [
    "import os\n",
    "\n",
    "def listar_arquivos(pasta):\n",
    "    try:\n",
    "        # Verifica se o caminho fornecido é uma pasta válida\n",
    "        if not os.path.isdir(pasta):\n",
    "            raise NotADirectoryError(f\"O caminho {pasta} não é uma pasta válida.\")\n",
    "\n",
    "        # Lista todos os arquivos na pasta com caminho completo\n",
    "        arquivos = []\n",
    "        for item in os.listdir(pasta):\n",
    "            caminho_completo = os.path.join(pasta, item)\n",
    "            if os.path.isfile(caminho_completo):\n",
    "                arquivos.append(caminho_completo)\n",
    "\n",
    "        return arquivos\n",
    "\n",
    "    except Exception as e:\n",
    "        return str(e)\n",
    "\n",
    "# Exemplo de uso\n",
    "caminho_pasta = r'C:\\Users\\Thomas\\Downloads\\Base_v2\\Emissao\\Dados_Emissao\\Historico\\Mensal'\n",
    "arquivos = listar_arquivos(caminho_pasta)"
   ]
  },
  {
   "cell_type": "code",
   "execution_count": 3,
   "metadata": {},
   "outputs": [],
   "source": [
    "def obter_nome_arquivo(caminho_completo):\n",
    "    return os.path.basename(caminho_completo)\n",
    "nomes_arquivos = [obter_nome_arquivo(arquivo) for arquivo in arquivos]"
   ]
  },
  {
   "cell_type": "code",
   "execution_count": 4,
   "metadata": {},
   "outputs": [],
   "source": [
    "ag.agrupaEx(r'C:\\Users\\Thomas\\Downloads\\Base_v2\\Emissao\\Dados_Emissao\\Historico\\Mensal' ,r'C:\\Users\\Thomas\\Downloads\\Base_v2\\Emissao\\Dados_Emissao\\Historico\\Agrupado\\historico_agrupado.xlsx')"
   ]
  },
  {
   "cell_type": "code",
   "execution_count": 5,
   "metadata": {},
   "outputs": [],
   "source": [
    "all_corretores = pd.read_excel(r'C:\\Users\\Thomas\\Downloads\\Base_v2\\Emissao\\Dados_Emissao\\Grades\\Grades_agrupadas.xlsx')[['Corretor', 'Inspetor de producao']]\n",
    "all_production = pd.read_excel(r'C:\\Users\\Thomas\\Downloads\\Base_v2\\Emissao\\Dados_Emissao\\Historico\\Agrupado\\historico_agrupado.xlsx')"
   ]
  },
  {
   "cell_type": "code",
   "execution_count": 6,
   "metadata": {},
   "outputs": [],
   "source": [
    "merged_df = all_production.merge(all_corretores[['Corretor', 'Inspetor de producao']],\n",
    "                                on='Corretor',\n",
    "                                how='left',\n",
    "                                suffixes=('', '_new'))"
   ]
  },
  {
   "cell_type": "code",
   "execution_count": 7,
   "metadata": {},
   "outputs": [],
   "source": [
    "merged_df['Inspetor de producao_new'].fillna('Comercial', inplace=True)\n",
    "merged_df['Ramo Seguro'].fillna('Zerado', inplace=True)"
   ]
  },
  {
   "cell_type": "code",
   "execution_count": 8,
   "metadata": {},
   "outputs": [],
   "source": [
    "l_unique = merged_df['Inspetor de producao_new'].unique().tolist()"
   ]
  },
  {
   "cell_type": "code",
   "execution_count": 12,
   "metadata": {},
   "outputs": [],
   "source": [
    "def export_to_excel_with_format(df, file_path):\n",
    "\n",
    "# Exporta o DataFrame para um arquivo Excel\n",
    "    df.to_excel(file_path, index=True)\n",
    "\n",
    "    # Carrega o arquivo Excel\n",
    "    wb = load_workbook(file_path)\n",
    "    ws = wb.active\n",
    "\n",
    "\n",
    "\n",
    "    # Cria um estilo para o cabeçalho\n",
    "    header_style = NamedStyle(name='header')\n",
    "    header_style.fill = PatternFill(start_color='FF0000', end_color='FF0000', fill_type='solid')\n",
    "    header_style.font = Font(color='FFFFFF', bold=True)  # Título em negrito\n",
    "\n",
    "\n",
    "\n",
    "    # Aplica a formatação ao cabeçalho de todas as colunas\n",
    "    for col_idx in range(1, len(df.columns) + 2):\n",
    "        ws.cell(row=1, column=col_idx).style = header_style\n",
    "\n",
    "    # Ajusta a largura das colunas automaticamente\n",
    "    for col_idx, column in enumerate(ws.columns, start=1):\n",
    "        max_length = 0\n",
    "        column_letter = ws.cell(row=1, column=col_idx).column_letter\n",
    "        for cell in column:\n",
    "            try:\n",
    "                if cell.value is not None:\n",
    "                    cell_length = len(str(cell.value))\n",
    "                    if cell_length > max_length:\n",
    "                        max_length = cell_length\n",
    "            except:\n",
    "                pass\n",
    "        adjusted_width = max_length + 2  # Adiciona um pequeno espaço extra\n",
    "        ws.column_dimensions[column_letter].width = max(10, adjusted_width)  # Largura mínima de 10\n",
    "\n",
    "    # Adiciona um filtro à planilha\n",
    "    ws.auto_filter.ref = ws.dimensions  # Define o autofiltro para todas as células preenchidas\n",
    "\n",
    "    # Salva o arquivo Excel com a formatação aplicada\n",
    "    wb.save(file_path)"
   ]
  },
  {
   "cell_type": "code",
   "execution_count": 13,
   "metadata": {},
   "outputs": [],
   "source": [
    "folder_path = r'C:\\Users\\Thomas\\Downloads\\Base_v2\\Emissao\\Dados_Emissao\\HisoricoMatriz'\n",
    "\n",
    "ag.delete_all_contents(folder_path)\n",
    "\n",
    "for i in l_unique:\n",
    "    n_df = merged_df[merged_df['Inspetor de producao'] == i]\n",
    "    n_df.reset_index(drop=True,inplace=True)\n",
    "    n_df.index = n_df.index + 1\n",
    "\n",
    "    pivot_df = n_df.pivot_table(index='Corretor', columns='Ramo Seguro', aggfunc='size', fill_value=0)\n",
    "    #pivot_df = pivot_df.drop(columns=['Zerado'])\n",
    "    colunas_piv = ['Auto', 'Residencial sob medida', 'Equipamento', 'Equipamento agrícola', 'Empresarial', 'Frota']\n",
    "    colunas_piv_existe = pivot_df.columns.tolist()\n",
    "    sequencia_c = [elemento for elemento in colunas_piv if elemento in colunas_piv_existe] #deixa a lista na sequencia certa\n",
    "    pivot_df = pivot_df[sequencia_c]\n",
    "\n",
    "\n",
    "    nome = unidecode(i)\n",
    "    nome = re.sub(r'[\\\\/]+', '', nome)\n",
    "    output_file = os.path.join(folder_path, nome+'.xlsx')\n",
    "    export_to_excel_with_format(pivot_df, output_file)"
   ]
  },
  {
   "cell_type": "code",
   "execution_count": 2,
   "metadata": {},
   "outputs": [
    {
     "name": "stdout",
     "output_type": "stream",
     "text": [
      ",\n"
     ]
    }
   ],
   "source": [
    "# String de exemplo\n",
    "texto = \"1025,10\"\n",
    "\n",
    "# Selecionando o terceiro caractere\n",
    "terceiro_caractere = texto[-3]\n",
    "\n",
    "# Exibindo o resultado\n",
    "print(terceiro_caractere)  # Saída: 'a'"
   ]
  }
 ],
 "metadata": {
  "kernelspec": {
   "display_name": "Python 3",
   "language": "python",
   "name": "python3"
  },
  "language_info": {
   "codemirror_mode": {
    "name": "ipython",
    "version": 3
   },
   "file_extension": ".py",
   "mimetype": "text/x-python",
   "name": "python",
   "nbconvert_exporter": "python",
   "pygments_lexer": "ipython3",
   "version": "3.9.7"
  }
 },
 "nbformat": 4,
 "nbformat_minor": 2
}
